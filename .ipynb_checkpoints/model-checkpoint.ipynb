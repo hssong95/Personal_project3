{
 "cells": [
  {
   "cell_type": "code",
   "execution_count": 1,
   "id": "3d4b437b-c820-48ec-906c-7bc8fd7ff744",
   "metadata": {},
   "outputs": [],
   "source": [
    "import pandas as pd\n",
    "import numpy as np\n",
    "import os\n",
    "import sqlite3\n"
   ]
  },
  {
   "cell_type": "code",
   "execution_count": null,
   "id": "612c32d9-5a06-4294-abd7-9d25a3577a5f",
   "metadata": {},
   "outputs": [],
   "source": [
    "DB_NAME='Electricity.db'\n",
    "DB_PATH=os.path.join(os.getcwd(),DB_NAME)\n",
    "\n",
    "conn = sqlite3.connect(DB_PATH)\n",
    "cur = conn.cursor()"
   ]
  }
 ],
 "metadata": {
  "kernelspec": {
   "display_name": "Python 3 (ipykernel)",
   "language": "python",
   "name": "python3"
  },
  "language_info": {
   "codemirror_mode": {
    "name": "ipython",
    "version": 3
   },
   "file_extension": ".py",
   "mimetype": "text/x-python",
   "name": "python",
   "nbconvert_exporter": "python",
   "pygments_lexer": "ipython3",
   "version": "3.9.14"
  }
 },
 "nbformat": 4,
 "nbformat_minor": 5
}
